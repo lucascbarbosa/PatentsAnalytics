{
 "cells": [
  {
   "cell_type": "code",
   "execution_count": null,
   "metadata": {},
   "outputs": [],
   "source": []
  },
  {
   "cell_type": "markdown",
   "metadata": {},
   "source": [
    "# Mongo DB"
   ]
  },
  {
   "cell_type": "code",
   "execution_count": 177,
   "metadata": {},
   "outputs": [],
   "source": [
    "import pymongo\n",
    "\n",
    "myclient = pymongo.MongoClient(\"mongodb://localhost:27017/\")\n",
    "db = myclient[\"igti\"]\n",
    "mycol = db[\"workers\"]\n"
   ]
  },
  {
   "cell_type": "markdown",
   "metadata": {},
   "source": [
    "Lendo arquivo e inserindo no mongo"
   ]
  },
  {
   "cell_type": "code",
   "execution_count": 178,
   "metadata": {},
   "outputs": [],
   "source": [
    "import pandas as pd\n",
    "import json\n",
    "import pprint\n",
    "\n",
    "file = 'C:/Users/Lucyellen/Desktop/data_science/data science igti/arquivos_necessarios/videogame_sales_mongo.json'\n",
    "\n",
    "data = pd.read_json(file, encoding='utf-8')\n",
    "del data['_id']\n"
   ]
  },
  {
   "cell_type": "markdown",
   "metadata": {},
   "source": [
    "Você pode importar o arquivo no mongodb ou rodar essa função"
   ]
  },
  {
   "cell_type": "code",
   "execution_count": 99,
   "metadata": {},
   "outputs": [],
   "source": [
    "for i in range(len(data)):\n",
    "    mycol.insert_one({\n",
    "        'Rank': int(data['Rank'][i]), \n",
    "        'Name': data['Name'][i], \n",
    "        'Platform': data['Platform'][i],\n",
    "        'Year': data['Year'][i],\n",
    "        'Genre': data['Genre'][i],\n",
    "        'Publisher': data['Publisher'][i],\n",
    "        'NA_Sales': data['NA_Sales'][i],\n",
    "        'EU_Sales': data['EU_Sales'][i],\n",
    "        'JP_Sales': data['JP_Sales'][i],\n",
    "        'Other_Sales': data['Other_Sales'][i],\n",
    "        'Global_Sales': data['Global_Sales'][i]})    "
   ]
  }
 ],
 "metadata": {
  "kernelspec": {
   "display_name": "Python 3",
   "language": "python",
   "name": "python3"
  },
  "language_info": {
   "codemirror_mode": {
    "name": "ipython",
    "version": 3
   },
   "file_extension": ".py",
   "mimetype": "text/x-python",
   "name": "python",
   "nbconvert_exporter": "python",
   "pygments_lexer": "ipython3",
   "version": "3.6.7"
  }
 },
 "nbformat": 4,
 "nbformat_minor": 4
}
